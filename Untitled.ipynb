{
 "cells": [
  {
   "cell_type": "markdown",
   "id": "ba0c98df",
   "metadata": {},
   "source": [
    "Week 4 Lecture 1\n",
    "9/11/23"
   ]
  },
  {
   "cell_type": "code",
   "execution_count": 10,
   "id": "8057f2d1",
   "metadata": {},
   "outputs": [
    {
     "ename": "NameError",
     "evalue": "name 'UTA' is not defined",
     "output_type": "error",
     "traceback": [
      "\u001b[1;31m---------------------------------------------------------------------------\u001b[0m",
      "\u001b[1;31mNameError\u001b[0m                                 Traceback (most recent call last)",
      "Cell \u001b[1;32mIn[10], line 1\u001b[0m\n\u001b[1;32m----> 1\u001b[0m name \u001b[38;5;241m=\u001b[39m UTA\n",
      "\u001b[1;31mNameError\u001b[0m: name 'UTA' is not defined"
     ]
    }
   ],
   "source": [
    "name = UTA"
   ]
  },
  {
   "cell_type": "code",
   "execution_count": 11,
   "id": "862d8b93",
   "metadata": {},
   "outputs": [
    {
     "ename": "NameError",
     "evalue": "name 'name' is not defined",
     "output_type": "error",
     "traceback": [
      "\u001b[1;31m---------------------------------------------------------------------------\u001b[0m",
      "\u001b[1;31mNameError\u001b[0m                                 Traceback (most recent call last)",
      "Cell \u001b[1;32mIn[11], line 1\u001b[0m\n\u001b[1;32m----> 1\u001b[0m \u001b[38;5;28mprint\u001b[39m \u001b[38;5;241m=\u001b[39m (name)\n",
      "\u001b[1;31mNameError\u001b[0m: name 'name' is not defined"
     ]
    }
   ],
   "source": [
    "print = (name)"
   ]
  },
  {
   "cell_type": "code",
   "execution_count": null,
   "id": "db2a99e3",
   "metadata": {},
   "outputs": [],
   "source": [
    "salary = 25000"
   ]
  },
  {
   "cell_type": "code",
   "execution_count": 3,
   "id": "d9e8345f",
   "metadata": {},
   "outputs": [
    {
     "ename": "NameError",
     "evalue": "name 'salary' is not defined",
     "output_type": "error",
     "traceback": [
      "\u001b[1;31m---------------------------------------------------------------------------\u001b[0m",
      "\u001b[1;31mNameError\u001b[0m                                 Traceback (most recent call last)",
      "Cell \u001b[1;32mIn[3], line 1\u001b[0m\n\u001b[1;32m----> 1\u001b[0m \u001b[38;5;28mprint\u001b[39m \u001b[38;5;241m=\u001b[39m (salary)\n",
      "\u001b[1;31mNameError\u001b[0m: name 'salary' is not defined"
     ]
    }
   ],
   "source": [
    "print = (salary)"
   ]
  },
  {
   "cell_type": "code",
   "execution_count": 6,
   "id": "0d2d349c",
   "metadata": {},
   "outputs": [],
   "source": [
    "x, y, z = [100, 200, 300]"
   ]
  },
  {
   "cell_type": "code",
   "execution_count": 7,
   "id": "cc10f659",
   "metadata": {},
   "outputs": [],
   "source": [
    "print = (x, y, z)"
   ]
  },
  {
   "cell_type": "code",
   "execution_count": 9,
   "id": "bc267f60",
   "metadata": {},
   "outputs": [],
   "source": [
    "a = 100"
   ]
  },
  {
   "cell_type": "code",
   "execution_count": null,
   "id": "f716524a",
   "metadata": {},
   "outputs": [],
   "source": []
  },
  {
   "cell_type": "code",
   "execution_count": null,
   "id": "bca4fec5",
   "metadata": {},
   "outputs": [],
   "source": []
  },
  {
   "cell_type": "code",
   "execution_count": null,
   "id": "946c6fb9",
   "metadata": {},
   "outputs": [],
   "source": []
  },
  {
   "cell_type": "code",
   "execution_count": null,
   "id": "498b2aed",
   "metadata": {},
   "outputs": [],
   "source": []
  }
 ],
 "metadata": {
  "kernelspec": {
   "display_name": "Python 3 (ipykernel)",
   "language": "python",
   "name": "python3"
  },
  "language_info": {
   "codemirror_mode": {
    "name": "ipython",
    "version": 3
   },
   "file_extension": ".py",
   "mimetype": "text/x-python",
   "name": "python",
   "nbconvert_exporter": "python",
   "pygments_lexer": "ipython3",
   "version": "3.11.4"
  }
 },
 "nbformat": 4,
 "nbformat_minor": 5
}
